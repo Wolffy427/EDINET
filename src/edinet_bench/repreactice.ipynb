{
 "cells": [
  {
   "cell_type": "code",
   "execution_count": 4,
   "id": "703ed9c2",
   "metadata": {},
   "outputs": [
    {
     "name": "stderr",
     "output_type": "stream",
     "text": [
      "Generating train split: 100%|██████████| 865/865 [00:00<00:00, 9882.42 examples/s]\n",
      "Generating test split: 100%|██████████| 224/224 [00:00<00:00, 14336.00 examples/s]\n"
     ]
    }
   ],
   "source": [
    "from datasets import load_dataset\n",
    "\n",
    "dataset = load_dataset('SakanaAI/EDINET-Bench', 'fraud_detection')"
   ]
  },
  {
   "cell_type": "code",
   "execution_count": 5,
   "id": "9690ab18",
   "metadata": {},
   "outputs": [
    {
     "data": {
      "text/plain": [
       "DatasetDict({\n",
       "    train: Dataset({\n",
       "        features: ['meta', 'summary', 'bs', 'pl', 'cf', 'text', 'label', 'explanation', 'edinet_code', 'ammended_doc_id', 'doc_id', 'file_path'],\n",
       "        num_rows: 865\n",
       "    })\n",
       "    test: Dataset({\n",
       "        features: ['meta', 'summary', 'bs', 'pl', 'cf', 'text', 'label', 'explanation', 'edinet_code', 'ammended_doc_id', 'doc_id', 'file_path'],\n",
       "        num_rows: 224\n",
       "    })\n",
       "})"
      ]
     },
     "execution_count": 5,
     "metadata": {},
     "output_type": "execute_result"
    }
   ],
   "source": [
    "dataset"
   ]
  }
 ],
 "metadata": {
  "kernelspec": {
   "display_name": "venv",
   "language": "python",
   "name": "python3"
  },
  "language_info": {
   "codemirror_mode": {
    "name": "ipython",
    "version": 3
   },
   "file_extension": ".py",
   "mimetype": "text/x-python",
   "name": "python",
   "nbconvert_exporter": "python",
   "pygments_lexer": "ipython3",
   "version": "3.12.11"
  }
 },
 "nbformat": 4,
 "nbformat_minor": 5
}
